{
 "cells": [
  {
   "cell_type": "markdown",
   "metadata": {},
   "source": [
    "# PythonRenderer\n",
    "\n",
    "## Intro\n",
    "\n",
    "\n",
    "## Code reconstruction\n",
    "1. Folder struct\n",
    "1. Const\n",
    "1. ResourceManager\n",
    "\n",
    "### Folder struct\n",
    "There are two folderes in the Jupyter git: /Resource and /PythonRendererCode\n",
    "/Resource to put png file\n",
    "/PythnoREndererCode to put the entire code of this python project, make them divided into serveral parts.\n",
    "There is also a test_main.py to make it easier to develop with python to run temp code with it.\n",
    "\n",
    "### Code style\n",
    "use the pep8 python code style(pycharm has intergrated with pep8 check)\n",
    "\n",
    "### Moduel\n",
    "#### 1.Resource Manager as rscmgr\n",
    "Manage data, resource and parameter used in this project\n",
    "Store all the parameter and const used for this project\n",
    "**parameter for the output:**\n",
    "* light_direct\n",
    "* sephere_radius\n",
    "* item_color\n",
    "* back_ground_color\n",
    "* is_use_texture\n",
    "* cube_pivot_position\n",
    "* ...\n",
    "\n",
    "Read from file\n",
    "- small_target  ('Resource/testImage.png')\n",
    "- texture_mario ('Resource/testTexture.png')\n",
    "- vertex buffer for the cube\n",
    "\n",
    "#### 2.Feature Manager as feamgr\n",
    "Use the API module to modify the const parameter and control the feature and coord of output picture\n",
    "\n",
    "#### 3.Graphic method gramgr\n",
    "\n",
    "The basic method to implement the features\n",
    "Pass the empty img as parameter and return the img need to be painted on the screen\n",
    "\n",
    "use coord independent method to avoid the misunderstand while drawing picture in Feature Manager\n"
   ]
  },
  {
   "cell_type": "code",
   "execution_count": 12,
   "metadata": {},
   "outputs": [
    {
     "data": {
      "image/png": "[encoded data removed]",
      "text/plain": [
       "<Figure size 432x288 with 1 Axes>"
      ]
     },
     "metadata": {
      "needs_background": "light"
     },
     "output_type": "display_data"
    }
   ],
   "source": [
    "import PythonRendererCode.feature_manger as feamgr\n",
    "feamgr.display_sphere()"
   ]
  },
  {
   "cell_type": "code",
   "execution_count": null,
   "metadata": {},
   "outputs": [],
   "source": []
  }
 ],
 "metadata": {
  "kernelspec": {
   "display_name": "Python 2",
   "language": "python",
   "name": "python2"
  },
  "language_info": {
   "codemirror_mode": {
    "name": "ipython",
    "version": 2
   },
   "file_extension": ".py",
   "mimetype": "text/x-python",
   "name": "python",
   "nbconvert_exporter": "python",
   "pygments_lexer": "ipython2",
   "version": "2.7.15"
  }
 },
 "nbformat": 4,
 "nbformat_minor": 2
}
