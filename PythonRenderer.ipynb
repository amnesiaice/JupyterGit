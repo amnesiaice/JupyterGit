{
 "cells": [
  {
   "cell_type": "markdown",
   "metadata": {},
   "source": [
    "# PythonRenderer\n",
    "\n",
    "## Intro\n",
    "\n",
    "\n",
    "## Code reconstruction\n",
    "1. Folder struct\n",
    "1. Const\n",
    "1. ResourceManager\n",
    "\n",
    "### Folder struct\n",
    "There are two folderes in the Jupyter git: /Resource and /PythonRendererCode\n",
    "/Resource to put png file\n",
    "/PythnoREndererCode to put the entire code of this python project, make them divided into serveral parts.\n",
    "There is also a test_main.py to make it easier to develop with python to run temp code with it.\n",
    "\n",
    "### Code style\n",
    "use the pep8 python code style(pycharm has intergrated with pep8 check)\n",
    "### Moduel\n",
    "#### 1.Resource Manager as rscmgr\n",
    "Manage data, resource and parameter used in this project\n",
    "Store all the parameter and const used for this project\n",
    "**parameter for the output:**\n",
    "* light_direct\n",
    "* sephere_radius\n",
    "\n",
    "Read from file\n",
    "- small_target  ('Resource/testImage.png')\n",
    "- texture_mario ('Resource/testTexture.png')\n",
    "\n",
    "#### 2.Feature Manager as feamgr\n",
    "Use the API module to modify the const parameter and control the feature and coord of output picture\n",
    "\n",
    "#### 3.Graphic method gramgr\n",
    "\n",
    "The basic method to implement the features\n",
    "use coord independent method to avoid the misunderstand while drawing picture in Feature Manager\n"
   ]
  },
  {
   "cell_type": "code",
   "execution_count": null,
   "metadata": {},
   "outputs": [],
   "source": []
  }
 ],
 "metadata": {
  "kernelspec": {
   "display_name": "Python 2",
   "language": "python",
   "name": "python2"
  },
  "language_info": {
   "codemirror_mode": {
    "name": "ipython",
    "version": 2
   },
   "file_extension": ".py",
   "mimetype": "text/x-python",
   "name": "python",
   "nbconvert_exporter": "python",
   "pygments_lexer": "ipython2",
   "version": "2.7.15"
  }
 },
 "nbformat": 4,
 "nbformat_minor": 2
}
