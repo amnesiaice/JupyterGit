{
 "cells": [
  {
   "cell_type": "markdown",
   "metadata": {},
   "source": [
    "# PythonRenderer\n",
    "\n",
    "## Intro\n",
    "\n",
    "\n",
    "## Code reconstruction\n",
    "1. Folder struct\n",
    "1. Const\n",
    "1. ResourceManager\n",
    "\n",
    "### Folder struct\n",
    "There are two folderes in the Jupyter git: /Resource and /PythonRendererCode\n",
    "/Resource to put png file\n",
    "/PythnoREndererCode to put the entire code of this python project, make them divided into serveral parts.\n",
    "There is also a test_main.py to make it easier to develop with python to run temp code with it.\n",
    "\n",
    "### Code style\n",
    "Name the function with uppercase word (like ForExampleFounction())\n",
    "\n",
    "Name the variable with lowercase combine with underline(like for_example_variable)\n",
    "\n",
    "Try to avoid shorthand except for the imported module object.\n",
    "### Moduel\n",
    "#### 1.Const\n",
    "ProjectConst.py use this module to def the parameter and const used for this project\n",
    "\n",
    "**parameter for the output:**\n",
    "* light_direct\n",
    "* sephere_radius\n",
    "\n",
    "#### 2.ResourceManager\n",
    "Manage all kinds of resource\n",
    "- blank_target  ('Resource/testImage.png')\n",
    "- texture_mario ('Resource/testTexture.png')\n",
    "\n",
    "#### 3.API\n",
    "Use the API module to modify the const parameter and control the feature of output picture\n",
    "\n",
    "#### 4.Graphic method\n",
    "\n",
    "\n",
    "#### 5.Coordinate\n",
    "There should be at least 2 coordinate:\n",
    "* texture position\n",
    "* screen position\n",
    "\n",
    "#### 6.Math"
   ]
  },
  {
   "cell_type": "code",
   "execution_count": null,
   "metadata": {},
   "outputs": [],
   "source": []
  }
 ],
 "metadata": {
  "kernelspec": {
   "display_name": "Python 2",
   "language": "python",
   "name": "python2"
  },
  "language_info": {
   "codemirror_mode": {
    "name": "ipython",
    "version": 2
   },
   "file_extension": ".py",
   "mimetype": "text/x-python",
   "name": "python",
   "nbconvert_exporter": "python",
   "pygments_lexer": "ipython2",
   "version": "2.7.15"
  }
 },
 "nbformat": 4,
 "nbformat_minor": 2
}
