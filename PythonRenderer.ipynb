{
 "cells": [
  {
   "cell_type": "markdown",
   "metadata": {},
   "source": [
    "# PythonRenderer\n",
    "\n",
    "## Intro\n",
    "\n",
    "\n",
    "## Code reconstruction\n",
    "1. Folder struct\n",
    "1. Const\n",
    "1. ResourceManager\n",
    "\n",
    "### Folder struct\n",
    "There are two folderes in the Jupyter git: /Resource and /PythonRendererCode\n",
    "\n",
    "### Code style\n",
    "### Moduel\n",
    "#### 1.Const\n",
    "\n",
    "ProjectConst.py\n",
    "    \n",
    "Const used in this class:\n",
    "* light_direct=\n",
    "\n",
    "#### 2.ResourceManager"
   ]
  },
  {
   "cell_type": "code",
   "execution_count": 1,
   "metadata": {},
   "outputs": [],
   "source": [
    "%matplotlib inline\n",
    "\n",
    "import PythonRendererCode.ProjectConst as prjConst"
   ]
  },
  {
   "cell_type": "code",
   "execution_count": 6,
   "metadata": {},
   "outputs": [
    {
     "data": {
      "text/plain": [
       "1"
      ]
     },
     "execution_count": 6,
     "metadata": {},
     "output_type": "execute_result"
    }
   ],
   "source": [
    "prjConst.variablei"
   ]
  },
  {
   "cell_type": "code",
   "execution_count": 7,
   "metadata": {},
   "outputs": [
    {
     "data": {
      "text/plain": [
       "1"
      ]
     },
     "execution_count": 7,
     "metadata": {},
     "output_type": "execute_result"
    }
   ],
   "source": [
    "%matplotlib inline\n",
    "\n",
    "import PythonRendererCode.ProjectConst as prjConst\n",
    "\n",
    "prjConst.variablei\n",
    "\n"
   ]
  },
  {
   "cell_type": "code",
   "execution_count": null,
   "metadata": {},
   "outputs": [],
   "source": []
  }
 ],
 "metadata": {
  "kernelspec": {
   "display_name": "Python 2",
   "language": "python",
   "name": "python2"
  },
  "language_info": {
   "codemirror_mode": {
    "name": "ipython",
    "version": 2
   },
   "file_extension": ".py",
   "mimetype": "text/x-python",
   "name": "python",
   "nbconvert_exporter": "python",
   "pygments_lexer": "ipython2",
   "version": "2.7.15"
  }
 },
 "nbformat": 4,
 "nbformat_minor": 2
}
