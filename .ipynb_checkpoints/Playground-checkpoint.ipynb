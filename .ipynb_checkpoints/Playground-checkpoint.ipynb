{
 "cells": [
  {
   "cell_type": "code",
   "execution_count": 8,
   "metadata": {},
   "outputs": [],
   "source": [
    "%matplotlib inline\n",
    "import matplotlib.pyplot as plt\n",
    "import matplotlib.image as mpimg\n",
    "import numpy as np\n",
    "def get_color(x,y):\n",
    "    r=100\n",
    "    lightDirect=(-np.sqrt(3)/3,np.sqrt(3)/3,np.sqrt(3)/3)\n",
    "    out=0\n",
    "    #calculate\n",
    "    norm=(x,y,np.sqrt(np.square(r)-(np.square(x)+np.square(y))))\n",
    "    out=np.dot(norm,lightDirect)/(np.sqrt(np.dot(norm,norm))*np.sqrt(np.dot(lightDirect,lightDirect)))*0.5+0.5\n",
    "    return out"
   ]
  },
  {
   "cell_type": "markdown",
   "metadata": {},
   "source": [
    "# Try to display a ball with python"
   ]
  },
  {
   "cell_type": "code",
   "execution_count": 9,
   "metadata": {},
   "outputs": [
    {
     "data": {
      "image/png": "[encoded data removed]",
      "text/plain": [
       "<Figure size 432x288 with 1 Axes>"
      ]
     },
     "metadata": {
      "needs_background": "light"
     },
     "output_type": "display_data"
    }
   ],
   "source": [
    "img = mpimg.imread('testImage.png')\n",
    "\n",
    "originColor=[1,1,1,1]\n",
    "for i in range(0,599):\n",
    "    for j in range(0,599):\n",
    "        if np.square(i-300)+np.square(j-300)<np.square(100):\n",
    "            img[i][j]=np.multiply(originColor,get_color(i-300,j-300))\n",
    "plt.axis('off')\n",
    "imgplot = plt.imshow(img)"
   ]
  },
  {
   "cell_type": "markdown",
   "metadata": {},
   "source": [
    "**This is a simple render process, **"
   ]
  },
  {
   "cell_type": "code",
   "execution_count": 7,
   "metadata": {},
   "outputs": [],
   "source": [
    "tex = mpimg.imread('testTexture.png')\n",
    "img = mpimg.imread('testImage.png')\n",
    "\n",
    "originColor=[1,1,1,1]\n",
    "for i in range(0,599):\n",
    "    for j in range(0,599):\n",
    "        if np.square(i-300)+np.square(j-300)<np.square(100):\n",
    "            img[i][j]=np.multiply(originColor,get_color(i-300,j-300))\n",
    "plt.axis('off')\n",
    "imgplot = plt.imshow(img)"
   ]
  },
  {
   "cell_type": "code",
   "execution_count": null,
   "metadata": {},
   "outputs": [],
   "source": []
  }
 ],
 "metadata": {
  "kernelspec": {
   "display_name": "Python 2",
   "language": "python",
   "name": "python2"
  },
  "language_info": {
   "codemirror_mode": {
    "name": "ipython",
    "version": 2
   },
   "file_extension": ".py",
   "mimetype": "text/x-python",
   "name": "python",
   "nbconvert_exporter": "python",
   "pygments_lexer": "ipython2",
   "version": "2.7.15"
  }
 },
 "nbformat": 4,
 "nbformat_minor": 2
}
