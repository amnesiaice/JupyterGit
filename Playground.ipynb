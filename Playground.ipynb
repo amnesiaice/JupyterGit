{
  "cells": [
    {
      "metadata": {
        "trusted": true
      },
      "cell_type": "code",
      "source": "%matplotlib inline\nimport matplotlib.pyplot as plt\nimport matplotlib.image as mpimg\nimport numpy as np",
      "execution_count": 4,
      "outputs": []
    },
    {
      "metadata": {},
      "cell_type": "markdown",
      "source": "# Try to display a ball with python"
    },
    {
      "metadata": {
        "trusted": true
      },
      "cell_type": "code",
      "source": "img = mpimg.imread('testImage.png')\noriginColor=img[0][0]\nfor i in range(0,599):\n    for j in range(0,599):\n        if np.square(i-300)+np.square(j-300)<np.square(100):\n            img[i][j]=[0.5,0.5,0.5,1]\n\n        img[i][j][4]=1\nplt.axis('off')\nimgplot = plt.imshow(img)",
      "execution_count": 6,
      "outputs": [
        {
          "output_type": "display_data",
          "data": {
            "image/png": "[encoded data removed]",
            "text/plain": "<matplotlib.figure.Figure at 0x7f983e49c8d0>"
          },
          "metadata": {}
        }
      ]
    },
    {
      "metadata": {
        "trusted": true,
        "scrolled": true
      },
      "cell_type": "code",
      "source": "i=0.10\nj=0.1\n((i+j+np.sqrt(1-(np.square(i)+np.square(j))))*0.51+1)*5+0.5",
      "execution_count": 13,
      "outputs": [
        {
          "output_type": "execute_result",
          "execution_count": 13,
          "data": {
            "text/plain": "8.534371208835974"
          },
          "metadata": {}
        }
      ]
    },
    {
      "metadata": {
        "trusted": true
      },
      "cell_type": "code",
      "source": "",
      "execution_count": null,
      "outputs": []
    }
  ],
  "metadata": {
    "kernelspec": {
      "name": "python2",
      "display_name": "Python 2",
      "language": "python"
    },
    "language_info": {
      "mimetype": "text/x-python",
      "nbconvert_exporter": "python",
      "name": "python",
      "pygments_lexer": "ipython2",
      "version": "2.7.14",
      "file_extension": ".py",
      "codemirror_mode": {
        "version": 2,
        "name": "ipython"
      }
    }
  },
  "nbformat": 4,
  "nbformat_minor": 2
}